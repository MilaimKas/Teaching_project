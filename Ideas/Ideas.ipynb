{
 "cells": [
  {
   "attachments": {},
   "cell_type": "markdown",
   "metadata": {},
   "source": [
    "Each ideas for a theme should contain the following section:\n",
    "- Title\n",
    "- theory\n",
    "- Form of the numerical exercice: what the studied will learn.\n",
    "- to implement: functions, classes and wrappers that will be needed."
   ]
  },
  {
   "attachments": {},
   "cell_type": "markdown",
   "metadata": {},
   "source": [
    "## Gaussian type orbitals (GTO)"
   ]
  },
  {
   "attachments": {},
   "cell_type": "markdown",
   "metadata": {},
   "source": [
    "### Theory"
   ]
  },
  {
   "attachments": {},
   "cell_type": "markdown",
   "metadata": {},
   "source": [
    "In spherical coordinates $\\chi^{GTO}=Y_{lm}(\\theta,\\phi)R^{GTO}_l{r}$, the angular part of a GTO is the usual harmonic spheric while the radial part, in spherical coordinates, is define as\n",
    "\n",
    "$$\n",
    "R_l^{GTO} = N_l r^l e^{-\\alpha r^2} \\\\\n",
    "N_l = \\sqrt{\\frac{2^{2l+3}(l+1)!2\\alpha^{l+\\frac{1}{2}}}{(2l+2)!\\sqrt{\\pi}}}\n",
    "$$\n",
    "\n",
    "In Cartesian coordinates, the GTO are defined as\n",
    "\n",
    "$$\n",
    "\\chi^{GTO}_{ijk} = N_{ijk} x^{i}y^{j}z^{k} e^{-\\alpha (x^2+y^2+z^2)}\n",
    "$$\n",
    "$$\n",
    "N_l = \\frac{2\\alpha}{\\pi}^{\\frac{3}{4}}\\big[ \\frac{(8\\alpha)^{i+j+k}i!j!k!}{(2i)!(2j)!(2k)!} \\big]\n",
    "$$\n",
    "\n",
    "where $i$, $j$ and $k$ are integer that depends on the $l$ and $m_l$ quantum numbers. If $i + j + k = 0$, then the orbital has spherical symmetry and is considered an $s$-type GTO. If $i + j + k = 1$, the GTO possesses axial symmetry along one axis and is considered a $p$-type GTO. When $i + j + k = 2$, there are six possible GTOs that may be constructed; this is one more than the five canonical $d$ orbital functions for a given angular quantum number. To address this, a linear combination of two $d$-type GTOs can be used to reproduce a canonical $d$ function. "
   ]
  },
  {
   "attachments": {},
   "cell_type": "markdown",
   "metadata": {},
   "source": [
    "### Form of the numerical exercises"
   ]
  },
  {
   "attachments": {},
   "cell_type": "markdown",
   "metadata": {},
   "source": [
    "- Plotting radial part of hydrogen like orbitals for different values of $Z_{eff}$, $m$, $l$ and $n$ quantum numbers. Example: H, He, Cl, C, O. \n",
    "- Plotting radial part of Gaussian basis functions in spherical coordinates for different values of $l$.\n",
    "- Compare both for different basis set (single, double, triple zeta) for core and valence atomic orbitals.\n",
    "- Provide a function which with to compare the students answer.\n",
    "- Polarization and diffuse functions: diatomic case (H$_{2}$, HCl). Plot Hartree-Fock molecular orbital for minimal basis and polarized basis. Effect on chemical bond.    "
   ]
  },
  {
   "attachments": {},
   "cell_type": "markdown",
   "metadata": {},
   "source": [
    "### To implement"
   ]
  },
  {
   "attachments": {},
   "cell_type": "markdown",
   "metadata": {},
   "source": [
    "- Molecular coefficients must be given (for atoms and diatomic case).\n",
    "- Build-in function with normalized Gaussian.  \n"
   ]
  },
  {
   "attachments": {},
   "cell_type": "markdown",
   "metadata": {},
   "source": [
    "## Molecular orbital diagram"
   ]
  },
  {
   "attachments": {},
   "cell_type": "markdown",
   "metadata": {},
   "source": [
    "### Theory"
   ]
  },
  {
   "attachments": {},
   "cell_type": "markdown",
   "metadata": {},
   "source": [
    "### Form of the numerical exercise"
   ]
  },
  {
   "attachments": {},
   "cell_type": "markdown",
   "metadata": {},
   "source": [
    "- Analysis and visualization of MOs for different chemical compounds: C$_2$H$_6$, C$_2$H$_4$, C$_2$H$_2$.\n",
    "- Symmetry consideration (group theory).\n",
    "- Plot a molecular orbital diagram.\n",
    "- Link between valence orbitals, hybridization and chemical bond (single, double and triple C-C bond).\n",
    "- bonding Vs non-bounding and anti-bounding orbitals."
   ]
  },
  {
   "attachments": {},
   "cell_type": "markdown",
   "metadata": {},
   "source": [
    "### To implement"
   ]
  },
  {
   "attachments": {},
   "cell_type": "markdown",
   "metadata": {},
   "source": [
    "- Build-in functions for molecular orbital analysis. Print out symmetry and largest MO coefficients with corresponding AO for given threshold."
   ]
  },
  {
   "attachments": {},
   "cell_type": "markdown",
   "metadata": {},
   "source": [
    "## Time evolution of molecular quantum state under a laser field"
   ]
  },
  {
   "attachments": {},
   "cell_type": "markdown",
   "metadata": {},
   "source": [
    "### Theory"
   ]
  },
  {
   "attachments": {},
   "cell_type": "markdown",
   "metadata": {},
   "source": [
    "\n",
    "- Time dependent SE. \n",
    "- Light as classic field.  \n",
    "- Matter-light interaction operator.  \n",
    "\n",
    "Possible analytical+plotting exercises: steps to arrive at the following expressino starting with the TDSE \n",
    "\n",
    "$$\n",
    "i\\hbar\\frac{dc_j}{dt}=\\sum_i c_i(t)\\hat{V}_{ij}e^{\\Delta E_{ij}t}\n",
    "$$\n",
    "\n",
    "where $\\hat{V}_{ij}=\\bra{\\Psi_i}\\hat{H_{int}}\\ket{\\Psi_j}$ and $\\Psi_i$ are the eigenfunctions of the unperturbed (molecular) Hamiltonian $\\hat{H_{mol}}$. \n",
    "Derive 1st order expression (Dirac's variation of constants, time evolution operator method and Dyson series) \n",
    "\n",
    "$$\n",
    "c_f = \\frac{1}{i\\hbar}\\int_0^t V_{f0}(t)e^{i(\\omega_f-\\omega_i)t}dt\n",
    "$$\n",
    "\n",
    "Derive general expression for a constant perturbation $V_{ij}(t) = V_{ij}$ and  for a exponentially switched on potential $V_{ij}(t)=V_{ij}(1-e^{-kt})$. Extract physical interpretation. Final solutions: \n",
    "\n",
    "$$\n",
    "|c_f|^2=\\frac{4|V_{fi}|^2}{\\omega_f-\\omega_i}sin^2(\\frac{(\\omega_f-\\omega_i)t}{2\\hbar})\n",
    "$$\n",
    "$$\n",
    "|c_f|^2=\\frac{|V|^2p_2(t)}{\\omega^2_{21}} \\quad p_{2}(t) \\, \\textrm{is a function of} \\, \\frac{k}{\\omega_{21}} \\, \\textrm{and} \\, \\textrm{t}\n",
    "$$\n",
    "\n",
    "Derive general expression for an oscillating potential (harmonic perturbation). Extract physical interpretation. Final solutions:\n",
    "\n",
    "$$\n",
    "|c_f|^2=\\frac{4|V_{fi}|^2}{(\\omega_i-\\omega_f)}sin^2\\frac{1}{2}(\\omega_f-\\omega_i-\\omega_{field})\n",
    "$$\n",
    "\n",
    "\n",
    "- The long wavelength approximation: multipole expansion of the plane wave and the dipole approximation.\n",
    "- Laser pulse shape. Link to pump probe experiment"
   ]
  },
  {
   "attachments": {},
   "cell_type": "markdown",
   "metadata": {},
   "source": [
    "### Form of the numerical exercise"
   ]
  },
  {
   "attachments": {},
   "cell_type": "markdown",
   "metadata": {},
   "source": [
    "- Build set of excited Slater determinant: Slater-states. With related tdm. \n",
    "- Solve full TDSE within the electronic Slater states basis for different Laser pulse shape using the TD_Slater code. \n",
    "- Plot and discuss the results. "
   ]
  },
  {
   "attachments": {},
   "cell_type": "markdown",
   "metadata": {},
   "source": [
    "### To implement"
   ]
  }
 ],
 "metadata": {
  "kernelspec": {
   "display_name": "venv",
   "language": "python",
   "name": "python3"
  },
  "language_info": {
   "name": "python",
   "version": "3.9.7 (default, Sep  3 2021, 12:37:55) \n[Clang 12.0.5 (clang-1205.0.22.9)]"
  },
  "orig_nbformat": 4,
  "vscode": {
   "interpreter": {
    "hash": "d6e746276a4ad9e17bd5ebcbc39af2a0ed41d4d6a9ffdb8d44a95331d79c0462"
   }
  }
 },
 "nbformat": 4,
 "nbformat_minor": 2
}
