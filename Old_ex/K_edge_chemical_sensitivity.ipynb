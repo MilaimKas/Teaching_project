{
 "cells": [
  {
   "cell_type": "markdown",
   "metadata": {},
   "source": [
    "TO DO:\n",
    "- Comparaison between HF (Koopman) and MOM ? Add tdm with MOM coeff\n",
    "- add function to automatize line broadening\n",
    "- stress more on the link to chemical bond\n",
    "- break down question 6)"
   ]
  },
  {
   "cell_type": "markdown",
   "metadata": {},
   "source": [
    "# Chemical sensitivity in carbon K edge spectrum"
   ]
  },
  {
   "cell_type": "markdown",
   "metadata": {
    "id": "mKvVCELQxQEG"
   },
   "source": [
    "\n",
    "## Prerequisit\n",
    "- Quantum mechanics\n",
    "  - single particle function\n",
    "  - eigenvector and eigenvalue\n",
    "- Hartree Fock theory basics\n",
    "  - MO, AO and electronic configuration\n",
    "  - Koopman`s excitation\n",
    "- Absorption/Emission spectroscopy basics\n",
    "  - transition moment \n",
    "  - selection rule\n",
    "- Python basics"
   ]
  },
  {
   "cell_type": "markdown",
   "metadata": {
    "id": "zmu41Ht8ZL18"
   },
   "source": [
    "## Forewords\n",
    "\n",
    "In this module, you will use a quantum chemistry program to: \n",
    "\n",
    "- calculate electron binding energies of core **electron**\n",
    "- calculate excited states properties using Hartree-Fock orbitals\n",
    "- plot an X-ray emission/absorption spectrum\n",
    "- investigate the chemical sensitivity of the carbon K-edge spectra\n",
    "- study the effect of orbital relaxation on the spectrum\n",
    "\n",
    "The quantum chemistry module that is used is PySCF (\\url{https://sunqm.github.io/pyscf/}). You will not directly deal with PySCF's syntax but rather use a class that will allow you to perform the needed calculations and extract the results through a simplified syntax. An example with the CO molecule is provided. \n",
    "\n",
    "The questions have been highlighted in green, red and blue, with the following meaning:\n",
    "- green: the answer does not have to appear in the report.\n",
    "- blue: these question involve plotting. They have to appear as figures in the report, along with a caption, legend and axis title. In addition, a short discription of the observed features must be given.\n",
    "- red: an written answer must be given.   "
   ]
  },
  {
   "cell_type": "markdown",
   "metadata": {
    "id": "-R_D9guRZVzp"
   },
   "source": [
    "## Sub-routine"
   ]
  },
  {
   "cell_type": "markdown",
   "metadata": {
    "id": "reRSWM1RZeGq"
   },
   "source": [
    "The relevant class and functions are given below, there is no need to go through it but an interested reader will find extended comments to understand the content."
   ]
  },
  {
   "cell_type": "code",
   "execution_count": 1,
   "metadata": {
    "executionInfo": {
     "elapsed": 738,
     "status": "ok",
     "timestamp": 1609274943641,
     "user": {
      "displayName": "Milaim Kas",
      "photoUrl": "https://lh3.googleusercontent.com/a-/AOh14GgmffnnbAuVy9O6bHYEwKf7hG0P7D3e1T3Pi9Qo=s64",
      "userId": "00407784785921508648"
     },
     "user_tz": -60
    },
    "id": "SjcdtQFhgN1L"
   },
   "outputs": [
    {
     "name": "stderr",
     "output_type": "stream",
     "text": [
      "/Users/milaimkas/Teaching/Teaching_project/venv/lib/python3.9/site-packages/pyscf/lib/misc.py:46: H5pyDeprecationWarning: Using default_file_mode other than 'r' is deprecated. Pass the mode to h5py.File() instead.\n",
      "  h5py.get_config().default_file_mode = 'a'\n"
     ]
    }
   ],
   "source": [
    "import pyscf\n",
    "import numpy as np\n",
    "from pyscf import scf,gto\n",
    "import matplotlib.pyplot as plt\n"
   ]
  },
  {
   "cell_type": "code",
   "execution_count": 2,
   "metadata": {
    "executionInfo": {
     "elapsed": 728,
     "status": "ok",
     "timestamp": 1609274948256,
     "user": {
      "displayName": "Milaim Kas",
      "photoUrl": "https://lh3.googleusercontent.com/a-/AOh14GgmffnnbAuVy9O6bHYEwKf7hG0P7D3e1T3Pi9Qo=s64",
      "userId": "00407784785921508648"
     },
     "user_tz": -60
    },
    "id": "DFQ4NlSnxQEQ"
   },
   "outputs": [],
   "source": [
    "# Molecule object\n",
    "class Molecule:\n",
    "    def __init__(self, name_molecule):\n",
    "      \n",
    "        '''\n",
    "          Wrapper class for PySCF mol, hf, MOM and CIS\n",
    "          initialize molecule and perform Hartree Fock and MOM calculation with the Gaussian 6-31g basis set\n",
    "          arg:\n",
    "          - name_molecule = 'CO', 'HNO', 'CNH5', 'CH4', 'CO2', 'CH2O', 'C2H6', 'C2H4', 'C2H2'\n",
    "        '''\n",
    "      \n",
    "        # Define molecular geometry for several compounds\n",
    "        self.mol       = pyscf.gto.Mole() \n",
    "        if name_molecule == 'CO':\n",
    "          self.mol.atom  = '''\n",
    "          C 0. 0. 0.\n",
    "          O 0. 0. 1.147 \n",
    "          ''' \n",
    "        elif name_molecule == 'HNO':\n",
    "          self.mol.atom = '''\n",
    "          H  -0.938530   0.9102970  0.0000000\n",
    "          N  0.0625690   0.5847110  0.0000000\n",
    "          O  0.0625690  -0.6254090  0.0000000 \n",
    "          '''\n",
    "        elif name_molecule == 'CO2':\n",
    "          self.mol.atom = '''\n",
    "          C  0.  0.  0.\n",
    "          O  0.  0.  -1.16\n",
    "          O  0.  0.  1.16\n",
    "          '''\n",
    "        elif name_molecule == 'CH2O':\n",
    "          self.mol.atom = '''\n",
    "          O  0.0000000  0.0000000    0.6840550\n",
    "          C  0.0000000  0.0000000   -0.5377120\n",
    "          H  0.0000000  0.9482250   -1.1230830\n",
    "          H  0.0000000  -0.9482250  -1.1230830\n",
    "          '''\n",
    "        elif name_molecule == 'C2H2':\n",
    "          self.mol.atom = '''\n",
    "          C\t0.0000000\t0.0000000\t0.6146230\n",
    "          C\t0.0000000\t0.0000000\t-0.6146230\n",
    "          H\t0.0000000\t0.0000000\t1.6926020\n",
    "          H\t0.0000000\t0.0000000\t-1.6926020\n",
    "          '''\n",
    "        elif name_molecule == 'C2H6':\n",
    "          self.mol.atom = '''\n",
    "          C\t0.0000000\t0.0000000\t0.7696050\n",
    "          C\t0.0000000\t0.0000000\t-0.7696050\n",
    "          H\t0.0000000\t1.0302260\t1.1677980\n",
    "          H\t-0.892202\t-0.515113\t1.1677980\n",
    "          H\t0.8922020\t-0.515113\t1.1677980\n",
    "          H\t0.0000000\t-1.030226\t-1.1677980\n",
    "          H\t-0.892202\t0.5151130\t-1.1677980\n",
    "          H\t0.8922020\t0.5151130\t-1.1677980\n",
    "          '''\n",
    "        elif name_molecule == 'C2H4':\n",
    "          self.mol.atom = '''\n",
    "          C\t0.0000000\t0.0000000\t0.6770110\n",
    "          C\t0.0000000\t0.0000000\t-0.6770110\n",
    "          H\t0.0000000\t0.9347540\t1.2488340\n",
    "          H\t0.0000000\t-0.934754\t1.2488340\n",
    "          H\t0.0000000\t-0.934754\t-1.2488340\n",
    "          H\t0.0000000\t0.9347540\t-1.2488340\n",
    "          '''\n",
    "        elif name_molecule == 'CNH5':   \n",
    "          self.mol.atom = '''\n",
    "          C\t0.05079000\t0.7054590\t0.0000000\n",
    "          N\t0.05079000\t-0.758502\t0.0000000\n",
    "          H\t-0.9425740\t1.1646480\t0.0000000\n",
    "          H\t0.58943700\t1.0605680\t0.8772540\n",
    "          H\t0.58943700\t1.0605680\t-0.8772540\n",
    "          H\t-0.4482880\t-1.104511\t-0.8089300\n",
    "          H\t-0.4482880\t-1.104511\t0.8089300\n",
    "          '''   \n",
    "        else:\n",
    "          print('Molecule not found in library')\n",
    "        \n",
    "        # define gaussian basis set\n",
    "        self.mol.basis = '''6-31g'''\n",
    "        # use symmetry     \n",
    "        self.mol.symmetry = True\n",
    "        # no output\n",
    "        self.mol.verbose = 0\n",
    "        # build one and two electron integrals\n",
    "        self.mol.build()\n",
    "        \n",
    "        # do Restricted Hartree Fock calculation\n",
    "        # results are stored in the object mf\n",
    "        self.mf = pyscf.scf.RHF(self.mol)\n",
    "        self.mf.kernel()\n",
    "        # store occupation numbers\n",
    "        self.occ = self.mf.mo_occ\n",
    "\n",
    "    \n",
    "    def MO_energy(self):\n",
    "       '''\n",
    "       print Hartree Fock MO energies\n",
    "       '''\n",
    "       return self.mf.mo_energy\n",
    "\n",
    "    def print_MO(self):\n",
    "       '''\n",
    "       print information on the Hartree Fock MO\n",
    "       '''\n",
    "       self.mf.analyze(verbose=5)\n",
    "    \n",
    "    def tdm(self,i,a):\n",
    "        '''\n",
    "        calculates \n",
    "        - the tdm between two MOs \"i\" and \"a\"\n",
    "        where \"i\" is occupied and \"a\" virtual MO\n",
    "        - the oscillator strength relate to that transition\n",
    "        '''\n",
    "\n",
    "        # tdm in x,y and z direction for all given MO transition\n",
    "        tdm = np.zeros((3))\n",
    "        osci = 0\n",
    "\n",
    "        # dipole integrals in AOs basis set for the 3 cartesians components\n",
    "        with self.mol.with_common_orig((0, 0, 0)):\n",
    "            ao_dip  = self.mol.intor_symmetric('int1e_r', comp=3)\n",
    "        \n",
    "        \n",
    "        tdm[0] = np.einsum('j,k,jk', self.mf.mo_coeff[:, i], self.mf.mo_coeff[:, a].conj(), ao_dip[0])\n",
    "        tdm[1] = np.einsum('j,k,jk', self.mf.mo_coeff[:, i], self.mf.mo_coeff[:, a].conj(), ao_dip[1])\n",
    "        tdm[2] = np.einsum('j,k,jk', self.mf.mo_coeff[:, i], self.mf.mo_coeff[:, a].conj(), ao_dip[2])\n",
    "\n",
    "        osci += (2/3)*abs(self.mf.mo_energy[a]-self.mf.mo_energy[i])\n",
    "        osci *= np.sum(abs(tdm)**2)\n",
    "\n",
    "        return tdm, osci   \n",
    "\n",
    "    def MOM(self,i,a):\n",
    "          '''\n",
    "          Maximal overlap calculation for a i --> a excited determinant\n",
    "          '''\n",
    "          # define excited singlet occupation for alpha spin\n",
    "          occ = np.zeros((2, self.occ.size))\n",
    "          occ[:, self.occ==2] = 1\n",
    "          occ[1][a] = 1 # virtual orbital a\n",
    "          occ[1][i] = 0 # occupied orbital i\n",
    "          occ_es = occ[0][:] + occ[1][:]\n",
    "          # store mo coefficients in ROHF format\n",
    "          mo_coeff = self.mf.mo_coeff.copy()\n",
    "          # new SCF calculation\n",
    "          es_hf = scf.ROHF(self.mol)\n",
    "          # construct new density matrix with excited occ vector\n",
    "          dm_es = es_hf.make_rdm1(mo_coeff, occ_es)\n",
    "          # Apply mom occupation principle\n",
    "          es_hf = scf.addons.mom_occ(es_hf, mo_coeff, occ)\n",
    "          # Start new SCF with new density matrix\n",
    "          es_hf.scf(dm_es)\n",
    "          \n",
    "          # excitation energy\n",
    "          Ex_ene = es_hf.e_tot - self.mf.e_tot  \n",
    "\n",
    "          # new MOs energy\n",
    "          #MO_ene  = es_hf.mo_energy\n",
    "\n",
    "          return Ex_ene\n",
    "\n"
   ]
  },
  {
   "cell_type": "markdown",
   "metadata": {
    "id": "NQfVRvAzY-PY"
   },
   "source": [
    "## Theory\n"
   ]
  },
  {
   "cell_type": "markdown",
   "metadata": {
    "id": "v9pe40_wxQES"
   },
   "source": [
    "### **Mean field approach for the ground state**\n",
    "\n",
    "Different approaches are used in order to explicitly treat multi-electron systems. Most of them are based on expansion over single particle functions. These single particle functions are eigenfunctions of some one-electron operator where the explicit coupling (or correlation) between the particles (here electrons) is neglected. The most common approach is the Hartree-Fock method were the interaction between the electrons is approximated as a mean field. An Hartree-Fock calculation produces a set of single-particle function $\\phi_i$ (also called molecular orbitals: MOs) that are expressed as linear combination of basis functions $\\chi_{j}$ which are referred to as atomic orbitals (AOs):\n",
    "\n",
    "$$ \\phi_i = \\sum^{N_{basis}}_{j} c_{ij}\\chi_{j}$$\n",
    "\n",
    "$N_{basis}$ is the size of the AO basis and $c_{ij}$ are the optimized coefficients, usually called molecular orbital coefficients.\n",
    "The MOs are separated into occupied orbitals, characterized by negative energy, and unoccupied orbitals (positive energy). They are eigenfunctions of the Fock operator (see Chapter $8.7-8.8$ of the lecture notes) <br><br>\n",
    "\n",
    "### **Treatment of excited states**\n",
    "\n",
    "An accurate treatment of excited states involves expansion of the wave function unto basis of determinant or time-dependent approaches. Here we will deal with excited states using a much simpler (and faster) method. \n",
    "In the Hartree-Fock (HF) method, an approximation of excitation energy can be obtained by taking the sum of the absolute value of the two MOs energy involved in the transition. This is usually referred to as Koopman's theorem. \n",
    "\n",
    "For example the first valence excited states of a molecule is usually characterize by a single excitation from the HOMO (highest occupied molecular orbital) to the LUMO (lowest unoccupied molecular orbital).\n",
    "In the CO molecule, within a define basis set, the LUMO has an energy of $0.154$ au and the HOMO has an energy of $-0.545$ au. The excitation energy associated to this HOMO --> LUMO transition is therefore $abs(-0.545)+abs(0.154)=0.699$ au\n",
    "\n",
    "One should be aware that this crude approximation neglects many effects: electron correlation and orbital relaxation among others. Even a quantitative excitation energy is rarely obtained. For example, the relaxation correction to this model can be quite big with around 15eV for C, 1 eV for N and 0.2 eV for Oxygen (Stohr J., NEXAFS Spectroscopy, Springer, 1996, pp 22). <br><br>\n",
    "\n",
    "### **K-edge spectrum**\n",
    "\n",
    "K-edge spectrum refers to a spectrum obtained when a X-Ray light excites a $1s$ inner core orbital. The resulting excited state may lay below the ionization potential (IP) of the $1s$ orbital, leading to pre-edge and edge spectral lines, or above the IP, leading to above-edge structure. In the one-electron picture, these spectral features arise due to transitions from the 1s core orbital to valence excited MOs.\n",
    "\n",
    "In the present exercise you will calculate the excitation energies and transition dipole moment of core-to-valence transition for various molecules. The idea is to understand which properties, unique to each molecule, can be retrieved by means of X-ray spectroscopy. <br><br>\n",
    "\n",
    "### **Spectral line intensity**\n",
    "\n",
    "The height of a spectral line is proportional to the transition moment between the two states involved in the transition. Different quantities are used to characterize the intensity of a transition. The oscillator strength can be define as:\n",
    "\n",
    "$$f_{ik}=\\frac{2}{3}\\frac{\\Delta E}{g_i} \\sum_{\\alpha}|<\\Psi_k|\\hat{d}_{\\alpha}|\\Psi_i>|^2$$\n",
    "\n",
    "where $\\Delta E$ is the excitation energy from the initial state $i$ to the final state $k$, $g_i$ is the degeneracy of the initial state and $\\hat{d}_{\\alpha}$ is $\\alpha$ component of the dipole operator. <br><br>\n",
    "\n",
    "### **Chemical bond**\n",
    "\n",
    "The chemical bond is the force that held atoms together to form molecules. The strength of a chemical bond $A-B$ can be define by the energy needed to seperate both fragment $A$ and $B$. In many case, the MOs involving valence electrons, hold information on the bonding character (strong, weak , etc) of the molecule.\n",
    "\n",
    "As an example, the carbon atom can bond to an other carbon via different types of chemical bond: single, double and triple bond. Information of the type of chemical bond can be obtained from the valence MOs (the HOMO and LUMO).\n",
    "\n"
   ]
  },
  {
   "cell_type": "markdown",
   "metadata": {
    "id": "K-qdpK3ExQEU"
   },
   "source": [
    "## **Example: Calculating a K-edge spectra of the CO molecule**"
   ]
  },
  {
   "cell_type": "markdown",
   "metadata": {
    "id": "XrFeNN9Upr05"
   },
   "source": [
    "### **Step 1: Hartree Fock calculation and analysis of the MOs**"
   ]
  },
  {
   "cell_type": "markdown",
   "metadata": {
    "id": "7fJ7kdQdxQEV"
   },
   "source": [
    "First we create an python object that we call \"CO\". This object will hold information on the Hartree-Fock results of the CO molecule."
   ]
  },
  {
   "cell_type": "code",
   "execution_count": 3,
   "metadata": {
    "executionInfo": {
     "elapsed": 596,
     "status": "ok",
     "timestamp": 1609266371353,
     "user": {
      "displayName": "Milaim Kas",
      "photoUrl": "https://lh3.googleusercontent.com/a-/AOh14GgmffnnbAuVy9O6bHYEwKf7hG0P7D3e1T3Pi9Qo=s64",
      "userId": "00407784785921508648"
     },
     "user_tz": -60
    },
    "id": "tECnC86mxQEV"
   },
   "outputs": [],
   "source": [
    "CO = Molecule('CO')"
   ]
  },
  {
   "cell_type": "markdown",
   "metadata": {
    "id": "t-j-H-_mxQEX"
   },
   "source": [
    "The information of the single particle functions: their energy and composition in terms of atomic orbitals can be obtained from the object 'CO'.\n",
    "\n",
    "Printed information:\n",
    "- Total energy for the HF ground state (in au).\n",
    "- After the header \"$****$ MO energy $****$\" the occupation and energy of the one-electron function $\\phi_i$ (MO #) are shown. For example the first one-electron function is labeled MO #1, it has an energy of around $-20.58$ au and is occupied by two electrons. The point symmetry of the MO is also given, for diatomic molecules they correspond to the usual $\\sigma$, $\\pi$ notation with: $A1 = \\sigma$, $E1x=\\pi_x$ and $E1y=\\pi_y$. \n",
    "- After the header \"$**$ MO coefficients (expansion on meta-Lowdin AOs) $**$\", the expansion coefficients $c_{ij}$ are given in columns, one for each MO ($\\phi_i$). Each row refers to a AOs ($\\chi_j$). For example one can see that the MO #1 is mainly composed by the $1s$ AO of oxygen, and the MO #2 is the $1s$ AO of carbon. \n",
    "- The  $**$ Mulliken pop on meta-lowdin orthogonal AOs $**$ section gives information on the electronic populations of the single atomic orbitals and on the charge distribution within the molecule."
   ]
  },
  {
   "cell_type": "code",
   "execution_count": 4,
   "metadata": {
    "colab": {
     "base_uri": "https://localhost:8080/"
    },
    "executionInfo": {
     "elapsed": 809,
     "status": "ok",
     "timestamp": 1609265248148,
     "user": {
      "displayName": "Milaim Kas",
      "photoUrl": "https://lh3.googleusercontent.com/a-/AOh14GgmffnnbAuVy9O6bHYEwKf7hG0P7D3e1T3Pi9Qo=s64",
      "userId": "00407784785921508648"
     },
     "user_tz": -60
    },
    "id": "2b7J_0hqxQEX",
    "outputId": "b139a72b-68a1-4c67-af04-80301eae23a7"
   },
   "outputs": [
    {
     "name": "stdout",
     "output_type": "stream",
     "text": [
      "**** SCF Summaries ****\n",
      "Total Energy =                        -112.666599766068487\n",
      "Nuclear Repulsion Energy =              22.145166629607672\n",
      "One-electron Energy =                 -197.115458973601562\n",
      "Two-electron Energy =                   62.303692577925418\n",
      "Wave-function symmetry = Coov\n",
      "occupancy for each irrep:     A1  E1x  E1y\n",
      "                               5    1    1\n",
      "**** MO energy ****\n",
      "MO #1 (A1 #1), energy= -20.6863637669333 occ= 2\n",
      "MO #2 (A1 #2), energy= -11.4029546234066 occ= 2\n",
      "MO #3 (A1 #3), energy= -1.54740479404474 occ= 2\n",
      "MO #4 (A1 #4), energy= -0.795961432315602 occ= 2\n",
      "MO #5 (E1x #1), energy= -0.634418637982632 occ= 2\n",
      "MO #6 (E1y #1), energy= -0.634418637982632 occ= 2\n",
      "MO #7 (A1 #5), energy= -0.552519146745796 occ= 2\n",
      "MO #8 (E1x #2), energy= 0.135235290806966 occ= 0\n",
      "MO #9 (E1y #2), energy= 0.135235290806964 occ= 0\n",
      "MO #10 (A1 #6), energy= 0.402938743400854 occ= 0\n",
      "MO #11 (E1x #3), energy= 0.727847811784466 occ= 0\n",
      "MO #12 (E1y #3), energy= 0.727847811784466 occ= 0\n",
      "MO #13 (A1 #7), energy= 0.769561224045356 occ= 0\n",
      "MO #14 (A1 #8), energy= 0.99554720256756 occ= 0\n",
      "MO #15 (A1 #9), energy= 1.19097979745624 occ= 0\n",
      "MO #16 (E1x #4), energy= 1.20533767489483 occ= 0\n",
      "MO #17 (E1y #4), energy= 1.20533767489483 occ= 0\n",
      "MO #18 (A1 #10), energy= 1.83706481023567 occ= 0\n",
      " ** MO coefficients (expansion on meta-Lowdin AOs) **\n",
      "               #1(A1 #1) #2(A1 #2) #3(A1 #3) #4(A1 #4) #5(E1x #1)\n",
      "  0 C 1s       0.00039   0.99999  -0.00056   0.00016   0.00000\n",
      "  0 C 2s      -0.00003  -0.00143   0.40809  -0.37542  -0.00000\n",
      "  0 C 3s       0.00049  -0.00183  -0.06316   0.05161   0.00000\n",
      "  0 C 2px     -0.00000   0.00000  -0.00000   0.00000   0.50300\n",
      "  0 C 2py      0.00000  -0.00000  -0.00000  -0.00000  -0.00000\n",
      "  0 C 2pz     -0.00035   0.00284   0.39425   0.03453   0.00000\n",
      "  0 C 3px     -0.00000  -0.00000   0.00000   0.00000  -0.03392\n",
      "  0 C 3py      0.00000  -0.00000  -0.00000  -0.00000  -0.00000\n",
      "  0 C 3pz      0.00065  -0.00179  -0.08517   0.06539   0.00000\n",
      "  1 O 1s       1.00000  -0.00039  -0.00101   0.00078   0.00000\n",
      "  1 O 2s       0.00094  -0.00052   0.76484   0.48606  -0.00000\n",
      "  1 O 3s      -0.00152  -0.00085  -0.03149   0.04712  -0.00000\n",
      "  1 O 2px      0.00000   0.00000  -0.00000  -0.00000   0.86362\n",
      "  1 O 2py     -0.00000  -0.00000   0.00000   0.00000   0.00000\n",
      "  1 O 2pz     -0.00151  -0.00030  -0.28204   0.78159  -0.00000\n",
      "  1 O 3px      0.00000  -0.00000   0.00000  -0.00000  -0.00276\n",
      "  1 O 3py     -0.00000   0.00000   0.00000   0.00000   0.00000\n",
      "  1 O 3pz      0.00137   0.00132   0.03557  -0.03970   0.00000\n",
      "               #6(E1y #1) #7(A1 #5) #8(E1x #2) #9(E1y #2) #10(A1 #6)\n",
      "  0 C 1s       0.00000   0.00324   0.00000   0.00000  -0.00056\n",
      "  0 C 2s       0.00000   0.70966  -0.00000   0.00000  -0.26910\n",
      "  0 C 3s      -0.00000   0.08680  -0.00000   0.00000  -0.33934\n",
      "  0 C 2px      0.00000  -0.00000   0.84410  -0.00000  -0.00000\n",
      "  0 C 2py      0.50300   0.00000  -0.00000   0.84410   0.00000\n",
      "  0 C 2pz     -0.00000  -0.61787   0.00000  -0.00000  -0.49293\n",
      "  0 C 3px      0.00000   0.00000   0.21339   0.00000   0.00000\n",
      "  0 C 3py     -0.03392  -0.00000  -0.00000   0.21339   0.00000\n",
      "  0 C 3pz     -0.00000   0.06994  -0.00000   0.00000  -0.68159\n",
      "  1 O 1s       0.00000   0.00019   0.00000   0.00000   0.00016\n",
      "  1 O 2s       0.00000   0.07107   0.00000  -0.00000   0.23389\n",
      "  1 O 3s       0.00000   0.03080   0.00000   0.00000   0.03108\n",
      "  1 O 2px     -0.00000  -0.00000  -0.48353  -0.00000   0.00000\n",
      "  1 O 2py      0.86362   0.00000   0.00000  -0.48353  -0.00000\n",
      "  1 O 2pz      0.00000   0.30964   0.00000  -0.00000  -0.18183\n",
      "  1 O 3px     -0.00000  -0.00000  -0.09033   0.00000   0.00000\n",
      "  1 O 3py     -0.00276  -0.00000   0.00000  -0.09033  -0.00000\n",
      "  1 O 3pz     -0.00000  -0.01769  -0.00000  -0.00000  -0.12714\n",
      "               #11(E1x #3) #12(E1y #3) #13(A1 #7) #14(A1 #8) #15(A1 #9)\n",
      "  0 C 1s       0.00000   0.00000   0.00045  -0.00277  -0.00060\n",
      "  0 C 2s       0.00000  -0.00000  -0.00732   0.23173   0.21877\n",
      "  0 C 3s       0.00000  -0.00000   0.86336  -0.33727  -0.05510\n",
      "  0 C 2px     -0.15473   0.00000  -0.00000   0.00000   0.00000\n",
      "  0 C 2py      0.00000  -0.15473  -0.00000  -0.00000  -0.00000\n",
      "  0 C 2pz     -0.00000   0.00000   0.05014   0.29535   0.30568\n",
      "  0 C 3px      0.96773   0.00000   0.00000  -0.00000   0.00000\n",
      "  0 C 3py      0.00000   0.96773  -0.00000  -0.00000   0.00000\n",
      "  0 C 3pz     -0.00000  -0.00000  -0.48372  -0.43281  -0.29614\n",
      "  1 O 1s       0.00000   0.00000  -0.00017   0.00041   0.00129\n",
      "  1 O 2s      -0.00000   0.00000  -0.01214  -0.25375  -0.20717\n",
      "  1 O 3s       0.00000   0.00000   0.05898  -0.04784  -0.38148\n",
      "  1 O 2px      0.12861   0.00000   0.00000  -0.00000  -0.00000\n",
      "  1 O 2py     -0.00000   0.12861  -0.00000   0.00000   0.00000\n",
      "  1 O 2pz     -0.00000   0.00000  -0.01221   0.34832   0.23505\n",
      "  1 O 3px      0.15172   0.00000  -0.00000  -0.00000  -0.00000\n",
      "  1 O 3py     -0.00000   0.15172   0.00000   0.00000   0.00000\n",
      "  1 O 3pz     -0.00000  -0.00000   0.11953   0.60827  -0.72406\n",
      "               #16(E1x #4) #17(E1y #4) #18(A1 #10)\n",
      "  0 C 1s       0.00000   0.00000   0.00039\n",
      "  0 C 2s      -0.00000   0.00000   0.12196\n",
      "  0 C 3s      -0.00000   0.00000  -0.09214\n",
      "  0 C 2px      0.10273  -0.00000   0.00000\n",
      "  0 C 2py     -0.00000   0.10273  -0.00000\n",
      "  0 C 2pz      0.00000  -0.00000   0.18827\n",
      "  0 C 3px     -0.12968  -0.00000   0.00000\n",
      "  0 C 3py      0.00000  -0.12968   0.00000\n",
      "  0 C 3pz      0.00000   0.00000  -0.10003\n",
      "  1 O 1s       0.00000   0.00000   0.00214\n",
      "  1 O 2s       0.00000  -0.00000  -0.10750\n",
      "  1 O 3s      -0.00000   0.00000   0.91846\n",
      "  1 O 2px     -0.06178  -0.00000  -0.00000\n",
      "  1 O 2py      0.00000  -0.06178  -0.00000\n",
      "  1 O 2pz      0.00000  -0.00000   0.06255\n",
      "  1 O 3px      0.98428   0.00000  -0.00000\n",
      "  1 O 3py      0.00000   0.98428   0.00000\n",
      "  1 O 3pz      0.00000   0.00000  -0.26858\n",
      " ** Mulliken pop on meta-lowdin orthogonal AOs  **\n",
      " ** Mulliken pop  **\n",
      "pop of  0 C 1s        1.99998\n",
      "pop of  0 C 2s        1.62220\n",
      "pop of  0 C 3s        0.02838\n",
      "pop of  0 C 2px       0.50601\n",
      "pop of  0 C 2py       0.50601\n",
      "pop of  0 C 2pz       1.07679\n",
      "pop of  0 C 3px       0.00230\n",
      "pop of  0 C 3py       0.00230\n",
      "pop of  0 C 3pz       0.03285\n",
      "pop of  1 O 1s        1.99999\n",
      "pop of  1 O 2s        1.65257\n",
      "pop of  1 O 3s        0.00833\n",
      "pop of  1 O 2px       1.49167\n",
      "pop of  1 O 2py       1.49167\n",
      "pop of  1 O 2pz       1.57260\n",
      "pop of  1 O 3px       0.00002\n",
      "pop of  1 O 3py       0.00002\n",
      "pop of  1 O 3pz       0.00632\n",
      " ** Mulliken atomic charges  **\n",
      "charge of  0C =      0.22318\n",
      "charge of  1O =     -0.22318\n",
      "Dipole moment(X, Y, Z, Debye):  0.00000,  0.00000, -0.65240\n"
     ]
    }
   ],
   "source": [
    "CO.print_MO()"
   ]
  },
  {
   "cell_type": "markdown",
   "metadata": {
    "id": "5VHOvNbvxQEa"
   },
   "source": [
    "The MOs energy (given in au) can be direclty access and store into an array using the following function\n"
   ]
  },
  {
   "cell_type": "code",
   "execution_count": 5,
   "metadata": {
    "colab": {
     "base_uri": "https://localhost:8080/"
    },
    "executionInfo": {
     "elapsed": 873,
     "status": "ok",
     "timestamp": 1609262172192,
     "user": {
      "displayName": "Milaim Kas",
      "photoUrl": "https://lh3.googleusercontent.com/a-/AOh14GgmffnnbAuVy9O6bHYEwKf7hG0P7D3e1T3Pi9Qo=s64",
      "userId": "00407784785921508648"
     },
     "user_tz": -60
    },
    "id": "Akw8AG0PxQEb",
    "outputId": "6b13d72f-47a1-498c-e930-9196445c3e62"
   },
   "outputs": [
    {
     "name": "stdout",
     "output_type": "stream",
     "text": [
      "[-20.68636377 -11.40295462  -1.54740479  -0.79596143  -0.63441864\n",
      "  -0.63441864  -0.55251915   0.13523529   0.13523529   0.40293874\n",
      "   0.72784781   0.72784781   0.76956122   0.9955472    1.1909798\n",
      "   1.20533767   1.20533767   1.83706481]\n"
     ]
    }
   ],
   "source": [
    "print(CO.MO_energy())"
   ]
  },
  {
   "cell_type": "markdown",
   "metadata": {
    "id": "_VNgP8VgFXWF"
   },
   "source": [
    "You can see that there are 7 and 11 occupied and unoccupied MOs, respectively"
   ]
  },
  {
   "cell_type": "markdown",
   "metadata": {},
   "source": [
    "### **Step 2: getting the excitation energies**"
   ]
  },
  {
   "cell_type": "markdown",
   "metadata": {},
   "source": [
    "#### Koopman`s excitation"
   ]
  },
  {
   "cell_type": "markdown",
   "metadata": {
    "id": "KijjTz9_xi-x"
   },
   "source": [
    "\n",
    "Let us now calculate the oxygen core-to-valence excitation energies in CO.\n",
    "\n",
    "The first MOs corresponds to the $1s$ AO of O. Within our basis set, the LUMO has an energy of $0.1537$ au and the $1s_O$ MOs has an energy of $-20.58$ au (see previous point). The excitation energy associated to this $1s_O$ --> LUMO transition is: "
   ]
  },
  {
   "cell_type": "code",
   "execution_count": 8,
   "metadata": {
    "colab": {
     "base_uri": "https://localhost:8080/"
    },
    "executionInfo": {
     "elapsed": 1069,
     "status": "ok",
     "timestamp": 1609265518069,
     "user": {
      "displayName": "Milaim Kas",
      "photoUrl": "https://lh3.googleusercontent.com/a-/AOh14GgmffnnbAuVy9O6bHYEwKf7hG0P7D3e1T3Pi9Qo=s64",
      "userId": "00407784785921508648"
     },
     "user_tz": -60
    },
    "id": "IV_Gwjkzyrx-",
    "outputId": "cc7b7cb0-e6ba-40a4-ed14-8faa9720b404"
   },
   "outputs": [
    {
     "name": "stdout",
     "output_type": "stream",
     "text": [
      "20.821599057740304\n"
     ]
    }
   ],
   "source": [
    "DE_CO_O = np.zeros((5))\n",
    "DE_CO_O[0] = abs((CO.MO_energy()[7]-CO.MO_energy()[0])) \n",
    "print(DE_CO_O[0])"
   ]
  },
  {
   "cell_type": "markdown",
   "metadata": {
    "id": "whihDFuw5Mxb"
   },
   "source": [
    "Higher core excitation energies are obtained by \"promoting\" the $1s_O$ electron to higher virtual orbitals. The obtained serie of excitation energies corresponds to the K edge of oxygen in CO.  "
   ]
  },
  {
   "cell_type": "code",
   "execution_count": 9,
   "metadata": {
    "colab": {
     "base_uri": "https://localhost:8080/"
    },
    "executionInfo": {
     "elapsed": 730,
     "status": "ok",
     "timestamp": 1609265640847,
     "user": {
      "displayName": "Milaim Kas",
      "photoUrl": "https://lh3.googleusercontent.com/a-/AOh14GgmffnnbAuVy9O6bHYEwKf7hG0P7D3e1T3Pi9Qo=s64",
      "userId": "00407784785921508648"
     },
     "user_tz": -60
    },
    "id": "QHiIn3iw5YGy",
    "outputId": "789a8f27-53cb-473d-e4ad-4fb2873dd7f1"
   },
   "outputs": [
    {
     "name": "stdout",
     "output_type": "stream",
     "text": [
      "[20.82159906 20.82159906 21.08930251 21.41421158 21.41421158]\n",
      "[566.5848606  566.5848606  573.86944633 582.71067695 582.71067695]\n"
     ]
    }
   ],
   "source": [
    "for i in range(5):\n",
    "  DE_CO_O[i]=abs(CO.MO_energy()[7+i]-CO.MO_energy()[0])\n",
    "\n",
    "print(DE_CO_O) # in au\n",
    "print(DE_CO_O*27.2114) # in eV"
   ]
  },
  {
   "cell_type": "markdown",
   "metadata": {
    "id": "8VVZtJv2tEEJ"
   },
   "source": [
    "Note that whithin this approximation, the calculated excitation energies are larger than the Koopman's ionization potential (IP) of the $1s_O$ orbital ($20.58$ au). "
   ]
  },
  {
   "cell_type": "markdown",
   "metadata": {},
   "source": [
    "#### Including orbital relaxation"
   ]
  },
  {
   "cell_type": "markdown",
   "metadata": {},
   "source": [
    "\n",
    "In order to get better excitation energies, one can use the maximal overlap method (MOM, see *T. B. Gilbert et al, J. Phys. Chem. A 2008, 112, 50, 13164*) that account for orbital relaxation. "
   ]
  },
  {
   "cell_type": "code",
   "execution_count": 10,
   "metadata": {
    "colab": {
     "base_uri": "https://localhost:8080/"
    },
    "executionInfo": {
     "elapsed": 1126,
     "status": "ok",
     "timestamp": 1609266501516,
     "user": {
      "displayName": "Milaim Kas",
      "photoUrl": "https://lh3.googleusercontent.com/a-/AOh14GgmffnnbAuVy9O6bHYEwKf7hG0P7D3e1T3Pi9Qo=s64",
      "userId": "00407784785921508648"
     },
     "user_tz": -60
    },
    "id": "6p9P9yyQu86r",
    "outputId": "60766ede-6cf9-455b-8b3a-eb6d5c977d2d"
   },
   "outputs": [
    {
     "name": "stdout",
     "output_type": "stream",
     "text": [
      "[19.67754425 19.67754425 20.05471035 20.34553497 20.34553497]\n",
      "[535.45352761 535.45352761 545.71674508 553.63049019 553.63049019]\n"
     ]
    }
   ],
   "source": [
    "DE_CO_O_MOM = np.zeros((5))\n",
    "for i in range(5):\n",
    "  DE_CO_O_MOM[i]=CO.MOM(0,7+i)\n",
    "\n",
    "print(DE_CO_O_MOM)\n",
    "print(DE_CO_O_MOM*27.2114)"
   ]
  },
  {
   "cell_type": "markdown",
   "metadata": {
    "id": "GsWmGMf3wG5K"
   },
   "source": [
    "As you can see, the difference in excitation energy is around 30 eV ! In addition or improved excitation energies are now below the IP of the $1s_O$ orbital."
   ]
  },
  {
   "cell_type": "markdown",
   "metadata": {
    "id": "UaaTAXBWSqh7"
   },
   "source": [
    "<font color='green'> **1) Calculate the carbon K-edge in CO (calculate the 5 first core-to-valence excitation energies)**\n",
    "\n",
    "hint: follow the same procedure as above but use the $1s$ orbital of carbon instead of oxygen"
   ]
  },
  {
   "cell_type": "code",
   "execution_count": 11,
   "metadata": {
    "colab": {
     "base_uri": "https://localhost:8080/"
    },
    "executionInfo": {
     "elapsed": 649,
     "status": "ok",
     "timestamp": 1609266767146,
     "user": {
      "displayName": "Milaim Kas",
      "photoUrl": "https://lh3.googleusercontent.com/a-/AOh14GgmffnnbAuVy9O6bHYEwKf7hG0P7D3e1T3Pi9Qo=s64",
      "userId": "00407784785921508648"
     },
     "user_tz": -60
    },
    "id": "6uO0hwVbS8ux",
    "outputId": "5d62f608-ceb6-4b49-c41e-af59c420649d"
   },
   "outputs": [
    {
     "name": "stdout",
     "output_type": "stream",
     "text": [
      "[313.97030103 313.97030103 321.25488676 330.09611738 330.09611738]\n"
     ]
    }
   ],
   "source": [
    "DE_CO_C = np.zeros((5))\n",
    "for i in range(5):\n",
    "  DE_CO_C[i]=abs(CO.MO_energy()[7+i]-CO.MO_energy()[1])\n",
    "\n",
    "print(DE_CO_C*27.2114)"
   ]
  },
  {
   "cell_type": "markdown",
   "metadata": {},
   "source": [
    "### **Step 3: getting the transition dipole moment**"
   ]
  },
  {
   "cell_type": "markdown",
   "metadata": {
    "id": "aM9_k6KuA9B2"
   },
   "source": [
    "\n",
    "Transition dipole moment and oscillator strength can be extracted for a given pair of occupied/virtual MO. This is done using the $tdm$ function: $CO.tdm(i,a)$ which returns the three cartesian components of the transition dipole moment and the oscillator strength for a $i$ --> $a$ transition. \n",
    "\n",
    "For the $1s_O$ --> LUMO transition:\n",
    "\n"
   ]
  },
  {
   "cell_type": "code",
   "execution_count": 12,
   "metadata": {
    "colab": {
     "base_uri": "https://localhost:8080/"
    },
    "executionInfo": {
     "elapsed": 624,
     "status": "ok",
     "timestamp": 1609268183448,
     "user": {
      "displayName": "Milaim Kas",
      "photoUrl": "https://lh3.googleusercontent.com/a-/AOh14GgmffnnbAuVy9O6bHYEwKf7hG0P7D3e1T3Pi9Qo=s64",
      "userId": "00407784785921508648"
     },
     "user_tz": -60
    },
    "id": "DVrmaU4OK1-S",
    "outputId": "d67d8b0d-5a73-42a6-9c31-e91ff3e985ba"
   },
   "outputs": [
    {
     "name": "stdout",
     "output_type": "stream",
     "text": [
      "[-0.03108124  0.          0.        ]\n",
      "\n",
      "0.013409713214897635\n"
     ]
    }
   ],
   "source": [
    "print(CO.tdm(0,7)[0]) # transition dipole moment\n",
    "print()\n",
    "print(CO.tdm(0,7)[1]) # oscillator strength"
   ]
  },
  {
   "cell_type": "markdown",
   "metadata": {
    "id": "phbx_UqYL1ta"
   },
   "source": [
    "<font color='green'> **2) Calculate the transition dipole moments and oscillator strength for the transistion calculated in 1).**\n"
   ]
  },
  {
   "cell_type": "code",
   "execution_count": 13,
   "metadata": {
    "colab": {
     "base_uri": "https://localhost:8080/"
    },
    "executionInfo": {
     "elapsed": 697,
     "status": "ok",
     "timestamp": 1609268358353,
     "user": {
      "displayName": "Milaim Kas",
      "photoUrl": "https://lh3.googleusercontent.com/a-/AOh14GgmffnnbAuVy9O6bHYEwKf7hG0P7D3e1T3Pi9Qo=s64",
      "userId": "00407784785921508648"
     },
     "user_tz": -60
    },
    "id": "eYlSCT2eBJhd",
    "outputId": "00bf9091-3b21-4771-b03f-45243d15cb80"
   },
   "outputs": [
    {
     "name": "stdout",
     "output_type": "stream",
     "text": [
      "[[ 0.05723355  0.          0.        ]\n",
      " [ 0.          0.05723355  0.        ]\n",
      " [ 0.          0.         -0.00875774]\n",
      " [-0.09234176  0.          0.        ]\n",
      " [ 0.         -0.09234176  0.        ]]\n",
      "[0.02519694 0.02519694 0.00060366 0.06895958 0.06895958]\n"
     ]
    }
   ],
   "source": [
    "tdm_CO = np.zeros((5,3))\n",
    "OS_CO = np.zeros((5))\n",
    "\n",
    "for i in range(5):\n",
    "   a = 7+i   \n",
    "   tdm_CO[i,:],OS_CO[i] = CO.tdm(1,a)\n",
    "\n",
    "print(tdm_CO)\n",
    "print(OS_CO)"
   ]
  },
  {
   "cell_type": "markdown",
   "metadata": {
    "id": "fmkknB38xQEr"
   },
   "source": [
    "<font color='blue'>**3a) Plot the X-Ray absorption spectrum at the C K-edge of CO using the excitation energies and oscillator strength obtained in 1) and 2).**\n",
    "\n",
    "hint i : plot vertical lines using the $plt.vlines()$ function. <br>\n",
    "hint ii: the position of the line is the excitation energy while the height can be given by the oscillator strength. <br>"
   ]
  },
  {
   "cell_type": "code",
   "execution_count": 14,
   "metadata": {
    "colab": {
     "base_uri": "https://localhost:8080/",
     "height": 265
    },
    "executionInfo": {
     "elapsed": 536,
     "status": "ok",
     "timestamp": 1609271132497,
     "user": {
      "displayName": "Milaim Kas",
      "photoUrl": "https://lh3.googleusercontent.com/a-/AOh14GgmffnnbAuVy9O6bHYEwKf7hG0P7D3e1T3Pi9Qo=s64",
      "userId": "00407784785921508648"
     },
     "user_tz": -60
    },
    "id": "vgNR6F7ZxQEs",
    "outputId": "5c0dfb17-4e3f-4658-bdb8-f3766e0157be"
   },
   "outputs": [
    {
     "data": {
      "image/png": "[encoded data removed]",
      "text/plain": [
       "<Figure size 432x288 with 1 Axes>"
      ]
     },
     "metadata": {
      "needs_background": "light"
     },
     "output_type": "display_data"
    }
   ],
   "source": [
    "# plot lines\n",
    "for i in range(5):\n",
    "    plt.vlines(DE_CO_C[i]*27.2114,0,OS_CO[i],colors='r')\n",
    "    #plt.vlines(DE_CO_C[i]*27.2114,0,sum(abs(tdm_CO[i])**2),colors='r')\n",
    "\n",
    "plt.show()"
   ]
  },
  {
   "cell_type": "markdown",
   "metadata": {
    "id": "Epttcyaj_3pr"
   },
   "source": [
    "<font color='blue'>**3b) Plot the X-Ray absorption spectrum at the O K-edge of CO.**"
   ]
  },
  {
   "cell_type": "code",
   "execution_count": 15,
   "metadata": {
    "colab": {
     "base_uri": "https://localhost:8080/",
     "height": 282
    },
    "executionInfo": {
     "elapsed": 650,
     "status": "ok",
     "timestamp": 1609271135157,
     "user": {
      "displayName": "Milaim Kas",
      "photoUrl": "https://lh3.googleusercontent.com/a-/AOh14GgmffnnbAuVy9O6bHYEwKf7hG0P7D3e1T3Pi9Qo=s64",
      "userId": "00407784785921508648"
     },
     "user_tz": -60
    },
    "id": "BCpMPpGq_5_g",
    "outputId": "0c7b7263-cce2-42d2-e804-3ad27a6892bb"
   },
   "outputs": [
    {
     "data": {
      "image/png": "[encoded data removed]",
      "text/plain": [
       "<Figure size 432x288 with 1 Axes>"
      ]
     },
     "metadata": {
      "needs_background": "light"
     },
     "output_type": "display_data"
    }
   ],
   "source": [
    "OS_CO_O = np.zeros(5)\n",
    "for i in range(5):\n",
    "    OS_CO_O[i] = CO.tdm(0,7+i)[1]\n",
    "\n",
    "\n",
    "plt.xlabel('Excitation energy (eV)')\n",
    "plt.ylabel('Oscillator strength')  \n",
    "plt.vlines(DE_CO_O*27.2114,0,OS_CO_O,colors='green')\n",
    "plt.show()"
   ]
  },
  {
   "cell_type": "markdown",
   "metadata": {
    "id": "KwUjamB7CTzi"
   },
   "source": [
    "<font color='brown'>**3c) In points 3a and 3b we have plotted the oscillator strengths relative to 5 excitations. Why do we see only three lines in the plotted spectra? In both the O and C K-edge the final orbitals are the same. Comparing the two spectra you can see that, the oscillator strenghts of the transitions with the same final MO is however very different both in absolute value and relative intensity distribution. Why is it so?**\n",
    "\n",
    "hint: think about the composition of the MOs in terms of AOs."
   ]
  },
  {
   "cell_type": "markdown",
   "metadata": {},
   "source": [
    "### **Step 4: Include line broadening**\n"
   ]
  },
  {
   "cell_type": "markdown",
   "metadata": {
    "id": "3w56_zMJFdUs"
   },
   "source": [
    "\n",
    "In a real spectrum, the spectral lines always have a finite, non-zero width. This is reffered to as line broadening and arises from different effects, such as : \n",
    "\n",
    "- Natural broadening (related to the time-energy uncertainity principle) \n",
    "- Collision broadening\n",
    "- Doppler effect\n",
    "\n",
    "the two first effects are related to the finite life-time of the excited states. The first case arises from the intrinsic finite life-time (coupling with the field or other states) and the second is due to collision-induced decay (in a gas for example). One can define a phenomenological decay probability $\\Gamma$, which is related to the life-time $\\tau$ by $\\Gamma=1/\\tau$, that account for all possible decay channel. In the following, $\\Gamma$ is considered to be the FWHM (full width at half maximum) of the line. \n",
    "\n",
    "The line shape related to the finite life-time is given by a Lorentzian function:\n",
    "\n",
    "$$ g(E) = \\frac{(\\Gamma/2)^2}{(E_0-E)^2+(\\Gamma/2)^{2}} $$\n",
    "\n",
    "where $E_0$ is the excitation energy. A typical life-time for a bound valence electronic transition is $10^{-8}s$ while core excited states have shorter life-time, in the order of $10^{-15}s$.\n",
    "\n",
    "$1fs=10^{-15}s=41.34$ au\n",
    "\n"
   ]
  },
  {
   "cell_type": "markdown",
   "metadata": {
    "id": "fUiO33Xh9u9Y"
   },
   "source": [
    "<font color='blue'>**4) Use the last given expression to simulate a more realistic C K-edge spectrum for CO by adding the line broadening to the vertical lines.**\n",
    "\n",
    "hint i: use the results you got in 3a) and 3b) <br>\n",
    "hint ii: one is usualy not interested in absolute value for the line intensities, only in the ratio. Normalize your lines with respect to the most intense transition. "
   ]
  },
  {
   "cell_type": "code",
   "execution_count": 16,
   "metadata": {
    "colab": {
     "base_uri": "https://localhost:8080/",
     "height": 265
    },
    "executionInfo": {
     "elapsed": 638,
     "status": "ok",
     "timestamp": 1609272174838,
     "user": {
      "displayName": "Milaim Kas",
      "photoUrl": "https://lh3.googleusercontent.com/a-/AOh14GgmffnnbAuVy9O6bHYEwKf7hG0P7D3e1T3Pi9Qo=s64",
      "userId": "00407784785921508648"
     },
     "user_tz": -60
    },
    "id": "L2EB7-U4-D_z",
    "outputId": "c473fdfa-119a-4dd1-fb72-a27b4f645757"
   },
   "outputs": [
    {
     "data": {
      "image/png": "[encoded data removed]",
      "text/plain": [
       "<Figure size 432x288 with 1 Axes>"
      ]
     },
     "metadata": {
      "needs_background": "light"
     },
     "output_type": "display_data"
    }
   ],
   "source": [
    "def gE(E0,E,tau):\n",
    "   \n",
    "   gamma = 1/tau\n",
    "   g = (gamma/2)**2/((E0-E)**2 + (gamma/2)**2)\n",
    "\n",
    "   return g\n",
    "\n",
    "OS_CO /= max(OS_CO)\n",
    "\n",
    "fE_points = 0\n",
    "for i in range(5):\n",
    "    E_ini = (DE_CO_C[i])-0.5\n",
    "    E_fin = (DE_CO_C[i])+0.5\n",
    "    E_points = np.linspace(E_ini,E_fin,100)\n",
    "    fE_points = gE(DE_CO_C[i],E_points,40)*OS_CO[i]\n",
    "\n",
    "    plt.plot(E_points*27.2114,fE_points,'k')\n"
   ]
  },
  {
   "cell_type": "markdown",
   "metadata": {
    "id": "OSUmlpdHNUhN"
   },
   "source": [
    "## **Carbon K-edge spectra for various molecules containing carbon atoms**"
   ]
  },
  {
   "cell_type": "markdown",
   "metadata": {
    "id": "R1Q7O4q7RS2P"
   },
   "source": [
    "<font color='brown'>**5) Extract the binding energy of the $1s_C$ orbital for the C2H2, C2H4 and C2H6 molecules. How do they compare ? How would you explain it ?**\n",
    "\n",
    "hint: follow the procedure given above for CO\n",
    "- step 1: create a Molecule object and analyze the MOs, identify the $1s_C$ and the unoccupied MOs"
   ]
  },
  {
   "cell_type": "code",
   "execution_count": 71,
   "metadata": {
    "executionInfo": {
     "elapsed": 1409,
     "status": "ok",
     "timestamp": 1609272330780,
     "user": {
      "displayName": "Milaim Kas",
      "photoUrl": "https://lh3.googleusercontent.com/a-/AOh14GgmffnnbAuVy9O6bHYEwKf7hG0P7D3e1T3Pi9Qo=s64",
      "userId": "00407784785921508648"
     },
     "user_tz": -60
    },
    "id": "F4KglarsR8vJ"
   },
   "outputs": [],
   "source": [
    "C2H6 = Molecule('C2H6')\n",
    "C2H4 = Molecule('C2H4')\n",
    "C2H2 = Molecule('C2H2')"
   ]
  },
  {
   "cell_type": "code",
   "execution_count": 72,
   "metadata": {
    "colab": {
     "base_uri": "https://localhost:8080/"
    },
    "executionInfo": {
     "elapsed": 729,
     "status": "ok",
     "timestamp": 1609272333855,
     "user": {
      "displayName": "Milaim Kas",
      "photoUrl": "https://lh3.googleusercontent.com/a-/AOh14GgmffnnbAuVy9O6bHYEwKf7hG0P7D3e1T3Pi9Qo=s64",
      "userId": "00407784785921508648"
     },
     "user_tz": -60
    },
    "id": "Xz1dlFyUTrsr",
    "outputId": "a602aa63-4ff9-454a-ef31-53569a7ca985"
   },
   "outputs": [
    {
     "name": "stdout",
     "output_type": "stream",
     "text": [
      "C2H2 MOs energies\n",
      "[-11.25515096 -11.25202359  -1.02326713  -0.75484512  -0.66841987\n",
      "  -0.39853299  -0.39853299   0.20475448   0.20475448   0.24171128\n",
      "   0.29030878   0.60277463   0.66520591   0.76002545   0.76002545\n",
      "   0.89958133   0.89958133   0.9663349    1.05152287   1.28021769\n",
      "   1.52918506   1.78905533]\n",
      "\n",
      "C2H4 MOs energies\n",
      "[-11.23905819 -11.23757647  -1.02616377  -0.78607763  -0.63494319\n",
      "  -0.57824604  -0.49910125  -0.36791951   0.16948963   0.25954316\n",
      "   0.28586071   0.30048539   0.3869788    0.48280834   0.68883178\n",
      "   0.78672069   0.78716906   0.88480109   0.89564421   0.97736989\n",
      "   1.1409982    1.18440466   1.21559237   1.22744011   1.36357261\n",
      "   1.50690855]\n",
      "\n",
      "C2H6 MOs energies\n",
      "[-11.21953063 -11.21899065  -1.01596992  -0.84036804  -0.59263107\n",
      "  -0.59263107  -0.5048752   -0.48124342  -0.48124342   0.23822796\n",
      "   0.29605924   0.30903531   0.30903532   0.33314863   0.33314863\n",
      "   0.40169895   0.74371653   0.76345751   0.76345754   0.87003622\n",
      "   0.87003624   0.9434161    1.19446121   1.19978779   1.19978781\n",
      "   1.24137615   1.24661289   1.24661289   1.30312175   1.68990212]\n"
     ]
    }
   ],
   "source": [
    "print('C2H2 MOs energies')\n",
    "print(C2H2.MO_energy())\n",
    "print()\n",
    "print('C2H4 MOs energies')\n",
    "print(C2H4.MO_energy())\n",
    "print()\n",
    "print('C2H6 MOs energies')\n",
    "print(C2H6.MO_energy())"
   ]
  },
  {
   "cell_type": "code",
   "execution_count": 80,
   "metadata": {
    "colab": {
     "base_uri": "https://localhost:8080/"
    },
    "executionInfo": {
     "elapsed": 704,
     "status": "ok",
     "timestamp": 1609272969970,
     "user": {
      "displayName": "Milaim Kas",
      "photoUrl": "https://lh3.googleusercontent.com/a-/AOh14GgmffnnbAuVy9O6bHYEwKf7hG0P7D3e1T3Pi9Qo=s64",
      "userId": "00407784785921508648"
     },
     "user_tz": -60
    },
    "id": "vR5bh7TqSDwW",
    "outputId": "8bd20a21-aabd-4e4c-b939-2ebb8797b2c8"
   },
   "outputs": [
    {
     "name": "stdout",
     "output_type": "stream",
     "text": [
      "1s_C binding energies in au and eV\n",
      "C2H2: -11.255150956296001 -306.268414732153\n",
      "C2H4: -11.239058194261343 -305.83050814732314\n",
      "C2H6: -11.219530633774667 -305.299135887896\n"
     ]
    }
   ],
   "source": [
    "print('1s_C binding energies in au and eV')\n",
    "print('C2H2:', C2H2.MO_energy()[0],C2H2.MO_energy()[0]*27.2114)\n",
    "print('C2H4:', C2H4.MO_energy()[0],C2H4.MO_energy()[0]*27.2114)\n",
    "print('C2H6:', C2H6.MO_energy()[0],C2H6.MO_energy()[0]*27.2114)"
   ]
  },
  {
   "cell_type": "markdown",
   "metadata": {
    "id": "LP2PStlC_Trw"
   },
   "source": [
    "<font color='blue'>**6) Calculate and plot a C K-edge spectrum for the C2H2, C2H4 and C2H6 molecules**\n",
    "\n",
    "hint i: follow the steps given in the CO example\n",
    "- step 2: store the core-to-valence excitation energies for 5 transitions\n",
    "- step 3: store the oscillator strength for the 5 transitions\n",
    "- step 4: add the line broadening \n",
    "\n",
    "hint ii: when plotting the final spectrum, you will have to add the spectra of each molecule.\n",
    "\n",
    "hint iii: do not forget to normalize you final spectrum (with respect to the most intense line)."
   ]
  },
  {
   "cell_type": "code",
   "execution_count": 75,
   "metadata": {
    "executionInfo": {
     "elapsed": 622,
     "status": "ok",
     "timestamp": 1609272502313,
     "user": {
      "displayName": "Milaim Kas",
      "photoUrl": "https://lh3.googleusercontent.com/a-/AOh14GgmffnnbAuVy9O6bHYEwKf7hG0P7D3e1T3Pi9Qo=s64",
      "userId": "00407784785921508648"
     },
     "user_tz": -60
    },
    "id": "ETNNS3LNBEqz"
   },
   "outputs": [],
   "source": [
    "# step 2\n",
    "DE_C2H2 = np.zeros((5))\n",
    "for i in range(5):\n",
    "  DE_C2H2[i]=abs(C2H2.MO_energy()[7+i]-C2H2.MO_energy()[1])\n",
    "\n",
    "DE_C2H4 = np.zeros((5))\n",
    "for i in range(5):\n",
    "  DE_C2H4[i]=abs(C2H4.MO_energy()[8+i]-C2H4.MO_energy()[0])\n",
    "\n",
    "DE_C2H6 = np.zeros((5))\n",
    "for i in range(5):\n",
    "  DE_C2H6[i]=abs(C2H6.MO_energy()[9+i]-C2H6.MO_energy()[0])\n",
    "\n"
   ]
  },
  {
   "cell_type": "code",
   "execution_count": 76,
   "metadata": {
    "executionInfo": {
     "elapsed": 699,
     "status": "ok",
     "timestamp": 1609272565178,
     "user": {
      "displayName": "Milaim Kas",
      "photoUrl": "https://lh3.googleusercontent.com/a-/AOh14GgmffnnbAuVy9O6bHYEwKf7hG0P7D3e1T3Pi9Qo=s64",
      "userId": "00407784785921508648"
     },
     "user_tz": -60
    },
    "id": "cBW1mDbaUTeF"
   },
   "outputs": [],
   "source": [
    "# step 3\n",
    "\n",
    "# initialize tdm and OS array\n",
    "tdm_C2H2 = np.zeros((5,3))\n",
    "OS_C2H2 = np.zeros((5))\n",
    "tdm_C2H4 = np.zeros((5,3))\n",
    "OS_C2H4 = np.zeros((5))\n",
    "tdm_C2H6 = np.zeros((5,3))\n",
    "OS_C2H6 = np.zeros((5))\n",
    "\n",
    "for i in range(5):   \n",
    "   tdm_C2H2[i,:],OS_C2H2[i] = C2H2.tdm(0,i+7)\n",
    "   tdm_C2H4[i,:],OS_C2H4[i] = C2H4.tdm(1,i+8)\n",
    "   tdm_C2H6[i,:],OS_C2H6[i] = C2H6.tdm(0,i+9)\n",
    "\n",
    "OS = np.concatenate((OS_C2H2,OS_C2H4,OS_C2H6))\n",
    "# normalize\n",
    "ref = max(OS)\n",
    "OS_C2H2 /= ref\n",
    "OS_C2H4 /= ref\n",
    "OS_C2H6 /= ref\n",
    "\n",
    "for i in range(5):\n",
    "    plt.vlines(DE_C2H2[i]*27.2114,0,OS_C2H2[i],colors='k')\n",
    "    plt.vlines(DE_C2H4[i]*27.2114,0,OS_C2H4[i],colors='r')\n",
    "    plt.vlines(DE_C2H6[i]*27.2114,0,OS_C2H6[i],colors='b')"
   ]
  },
  {
   "cell_type": "code",
   "execution_count": 79,
   "metadata": {
    "colab": {
     "base_uri": "https://localhost:8080/",
     "height": 265
    },
    "executionInfo": {
     "elapsed": 703,
     "status": "ok",
     "timestamp": 1609272826921,
     "user": {
      "displayName": "Milaim Kas",
      "photoUrl": "https://lh3.googleusercontent.com/a-/AOh14GgmffnnbAuVy9O6bHYEwKf7hG0P7D3e1T3Pi9Qo=s64",
      "userId": "00407784785921508648"
     },
     "user_tz": -60
    },
    "id": "Kfy_yyPd71ud",
    "outputId": "893117cf-dfa8-4411-89a7-527d80fd7bb8"
   },
   "outputs": [
    {
     "data": {
      "image/png": "[encoded data removed]",
      "text/plain": [
       "<Figure size 432x288 with 1 Axes>"
      ]
     },
     "metadata": {
      "needs_background": "light",
      "tags": []
     },
     "output_type": "display_data"
    }
   ],
   "source": [
    "# step 4\n",
    "\n",
    "tau = 40\n",
    "Emin = 0.2\n",
    "Emax = 0.2\n",
    "E_grid =100\n",
    "\n",
    "for i in range(5):\n",
    "\n",
    "    E_ini = (DE_C2H2[i])-Emin\n",
    "    E_fin = (DE_C2H2[i])+Emax\n",
    "    E_points = np.linspace(E_ini,E_fin,E_grid)\n",
    "    fE_points = gE(DE_C2H2[i],E_points,tau)*OS_C2H2[i]\n",
    "    plt.plot(E_points*27.2114,fE_points,'k')\n",
    "\n",
    "    E_ini = (DE_C2H4[i])-Emin\n",
    "    E_fin = (DE_C2H4[i])+Emax\n",
    "    E_points = np.linspace(E_ini,E_fin,E_grid)\n",
    "    fE_points = gE(DE_C2H4[i],E_points,tau)*OS_C2H4[i]\n",
    "    plt.plot(E_points*27.2114,fE_points,'r')\n",
    "\n",
    "    E_ini = (DE_C2H6[i])-Emin\n",
    "    E_fin = (DE_C2H6[i])+Emax\n",
    "    E_points = np.linspace(E_ini,E_fin,E_grid)\n",
    "    fE_points = gE(DE_C2H6[i],E_points,tau)*OS_C2H6[i]\n",
    "    plt.plot(E_points*27.2114,fE_points,'b')\n",
    " \n",
    "#plt.xlim([305,327])\n",
    "#plt.ylim([0,0.2])\n",
    "plt.show()"
   ]
  },
  {
   "cell_type": "markdown",
   "metadata": {
    "id": "gJoz4ocEV_ql"
   },
   "source": [
    "<font color='brown'>**7) Could you use these spectral lines to distinguish the different compounds? Considering your observation in point 5), how do you explain the difference in the position and intensity of the spectral lines.  What type of conclusions can you make on the final MOs?**"
   ]
  },
  {
   "cell_type": "markdown",
   "metadata": {
    "id": "zmE1CXOXKxDQ"
   },
   "source": [
    "<font color='brown'>**8) Based on your answer in the previous question, what type of information on the molecule can you retrieve from the spectral analysis?**"
   ]
  },
  {
   "cell_type": "markdown",
   "metadata": {
    "id": "Dzpa9u3vLHSV"
   },
   "source": [
    "<font color='brown'>**9) The spectral lines would also be different in a UV/visible spectra (which involves HOMO --> LUMO transitions). Explain the advantage of using X-ray absorbtion.** \n",
    "\n",
    "hint: X-ray involves a core to valence transition "
   ]
  },
  {
   "cell_type": "markdown",
   "metadata": {
    "id": "KOS-SX1NXJ48"
   },
   "source": [
    "<font color='brown'>**10) What happens if the life-time of the excited states decreases ? In an experiment, what could cause such increase ?**"
   ]
  },
  {
   "cell_type": "markdown",
   "metadata": {
    "id": "roCFX48UO2IU"
   },
   "source": [
    "<font color='green'>**Bonus: investigate the influence of orbital relaxation using the MOM method on the spectrum obtained in 6)**"
   ]
  }
 ],
 "metadata": {
  "colab": {
   "collapsed_sections": [
    "-R_D9guRZVzp",
    "XrFeNN9Upr05"
   ],
   "name": "Module_III-Solutions-K_edge_chemical_sensitivity.ipynb",
   "provenance": []
  },
  "interpreter": {
   "hash": "d6e746276a4ad9e17bd5ebcbc39af2a0ed41d4d6a9ffdb8d44a95331d79c0462"
  },
  "kernelspec": {
   "display_name": "Python 3.9.7 64-bit ('venv': venv)",
   "name": "python3"
  },
  "language_info": {
   "codemirror_mode": {
    "name": "ipython",
    "version": 3
   },
   "file_extension": ".py",
   "mimetype": "text/x-python",
   "name": "python",
   "nbconvert_exporter": "python",
   "pygments_lexer": "ipython3",
   "version": "3.9.7"
  }
 },
 "nbformat": 4,
 "nbformat_minor": 1
}
