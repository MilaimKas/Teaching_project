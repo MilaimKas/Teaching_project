{
 "cells": [
  {
   "cell_type": "markdown",
   "metadata": {},
   "source": [
    "### TO DOs:\n",
    "- \n",
    "- \n",
    "- "
   ]
  },
  {
   "cell_type": "markdown",
   "metadata": {},
   "source": [
    "# Title"
   ]
  },
  {
   "cell_type": "markdown",
   "metadata": {
    "id": "mKvVCELQxQEG"
   },
   "source": [
    "\n",
    "## Prerequisit\n",
    "\n",
    "Write down the theoretical and/or programming skills that are needed to perform the exercices."
   ]
  },
  {
   "cell_type": "markdown",
   "metadata": {
    "id": "zmu41Ht8ZL18"
   },
   "source": [
    "## Forewords\n",
    "\n",
    "In this module, you will use a quantum chemistry program to: \n",
    "\n",
    "- \n",
    "- \n",
    "- \n",
    "\n",
    "\n",
    "The quantum chemistry program that is used is PySCF (\\url{https://sunqm.github.io/pyscf/}). You will not directly deal with PySCF's syntax but rather use a class that will allow you to perform the needed calculations and extract the results through a simplified syntax. \n",
    "\n",
    "The questions have been highlighted in green, red and blue, with the following meaning:\n",
    "- green: the answer does not have to appear in the report.\n",
    "- blue: these question involve plotting. They have to appear as figures in the report, along with a caption, legend and axis title. In addition, a short discription of the observed features must be given.\n",
    "- red: a written answer must be given.   "
   ]
  },
  {
   "cell_type": "markdown",
   "metadata": {
    "id": "-R_D9guRZVzp"
   },
   "source": [
    "## Sub-routine"
   ]
  },
  {
   "cell_type": "markdown",
   "metadata": {
    "id": "reRSWM1RZeGq"
   },
   "source": [
    "The relevant class and functions are given below, there is no need to go through it but an interested reader will find extended comments to understand the content."
   ]
  },
  {
   "cell_type": "code",
   "execution_count": 4,
   "metadata": {
    "executionInfo": {
     "elapsed": 738,
     "status": "ok",
     "timestamp": 1609274943641,
     "user": {
      "displayName": "Milaim Kas",
      "photoUrl": "https://lh3.googleusercontent.com/a-/AOh14GgmffnnbAuVy9O6bHYEwKf7hG0P7D3e1T3Pi9Qo=s64",
      "userId": "00407784785921508648"
     },
     "user_tz": -60
    },
    "id": "SjcdtQFhgN1L"
   },
   "outputs": [],
   "source": [
    "# Imports"
   ]
  },
  {
   "cell_type": "code",
   "execution_count": 1,
   "metadata": {
    "executionInfo": {
     "elapsed": 728,
     "status": "ok",
     "timestamp": 1609274948256,
     "user": {
      "displayName": "Milaim Kas",
      "photoUrl": "https://lh3.googleusercontent.com/a-/AOh14GgmffnnbAuVy9O6bHYEwKf7hG0P7D3e1T3Pi9Qo=s64",
      "userId": "00407784785921508648"
     },
     "user_tz": -60
    },
    "id": "DFQ4NlSnxQEQ"
   },
   "outputs": [],
   "source": [
    "# Sub-routines and wrappers"
   ]
  },
  {
   "cell_type": "markdown",
   "metadata": {
    "id": "NQfVRvAzY-PY"
   },
   "source": [
    "## Theory\n"
   ]
  },
  {
   "cell_type": "markdown",
   "metadata": {
    "id": "v9pe40_wxQES"
   },
   "source": [
    "Write down a consice summary of the important notions that will be encountered throughout the exercise. Add important equations and helpful plots and/or images as well as references to the course. "
   ]
  },
  {
   "cell_type": "markdown",
   "metadata": {
    "id": "K-qdpK3ExQEU"
   },
   "source": [
    "## **Example:**"
   ]
  },
  {
   "cell_type": "markdown",
   "metadata": {},
   "source": [
    "## **Exercise**"
   ]
  },
  {
   "cell_type": "markdown",
   "metadata": {
    "id": "phbx_UqYL1ta"
   },
   "source": [
    "<font color='green'> **i) Question were a code has to be provided**\n",
    "\n",
    "hint\n"
   ]
  },
  {
   "cell_type": "code",
   "execution_count": 2,
   "metadata": {
    "colab": {
     "base_uri": "https://localhost:8080/"
    },
    "executionInfo": {
     "elapsed": 697,
     "status": "ok",
     "timestamp": 1609268358353,
     "user": {
      "displayName": "Milaim Kas",
      "photoUrl": "https://lh3.googleusercontent.com/a-/AOh14GgmffnnbAuVy9O6bHYEwKf7hG0P7D3e1T3Pi9Qo=s64",
      "userId": "00407784785921508648"
     },
     "user_tz": -60
    },
    "id": "eYlSCT2eBJhd",
    "outputId": "00bf9091-3b21-4771-b03f-45243d15cb80"
   },
   "outputs": [],
   "source": [
    "# blank for code"
   ]
  },
  {
   "cell_type": "markdown",
   "metadata": {
    "id": "fmkknB38xQEr"
   },
   "source": [
    "<font color='blue'>**j) Question were a plot has to be provided**\n",
    "\n",
    "hint"
   ]
  },
  {
   "cell_type": "code",
   "execution_count": 3,
   "metadata": {
    "colab": {
     "base_uri": "https://localhost:8080/",
     "height": 265
    },
    "executionInfo": {
     "elapsed": 536,
     "status": "ok",
     "timestamp": 1609271132497,
     "user": {
      "displayName": "Milaim Kas",
      "photoUrl": "https://lh3.googleusercontent.com/a-/AOh14GgmffnnbAuVy9O6bHYEwKf7hG0P7D3e1T3Pi9Qo=s64",
      "userId": "00407784785921508648"
     },
     "user_tz": -60
    },
    "id": "vgNR6F7ZxQEs",
    "outputId": "5c0dfb17-4e3f-4658-bdb8-f3766e0157be"
   },
   "outputs": [],
   "source": [
    "# blank for code"
   ]
  },
  {
   "cell_type": "markdown",
   "metadata": {
    "id": "KwUjamB7CTzi"
   },
   "source": [
    "<font color='brown'>**k) Question were a text has to be provided**\n",
    "\n",
    "hint:"
   ]
  },
  {
   "cell_type": "markdown",
   "metadata": {},
   "source": [
    "blank for text"
   ]
  }
 ],
 "metadata": {
  "colab": {
   "collapsed_sections": [
    "-R_D9guRZVzp",
    "XrFeNN9Upr05"
   ],
   "name": "Module_III-Solutions-K_edge_chemical_sensitivity.ipynb",
   "provenance": []
  },
  "interpreter": {
   "hash": "d6e746276a4ad9e17bd5ebcbc39af2a0ed41d4d6a9ffdb8d44a95331d79c0462"
  },
  "kernelspec": {
   "display_name": "Python 3.9.7 64-bit ('venv': venv)",
   "name": "python3"
  },
  "language_info": {
   "codemirror_mode": {
    "name": "ipython",
    "version": 3
   },
   "file_extension": ".py",
   "mimetype": "text/x-python",
   "name": "python",
   "nbconvert_exporter": "python",
   "pygments_lexer": "ipython3",
   "version": "3.9.7"
  }
 },
 "nbformat": 4,
 "nbformat_minor": 1
}
